{
 "cells": [
  {
   "cell_type": "markdown",
   "metadata": {},
   "source": [
    "### K값의 중요성\n",
    "- k = 근접 이웃 개수(근접 이웃 몇개를 선택할 것인지)\n",
    "- k값을 선택하면서 시행착오를 겪어야 함\n",
    "- k값에 따라서 분류 결과 달라짐\n",
    "- k값에 따라서 전확도와 신뢰도가 달라짐\n",
    "\n",
    "### KNN모델\n",
    "- KNeighborsClassifier() = 분류기로 사용\n",
    "- Regressor = 연속형 데이터 예측\n",
    "- KNeighborsRegressor() = 연속형 값 예측"
   ]
  },
  {
   "cell_type": "markdown",
   "metadata": {},
   "source": [
    "### 호감도 LABEL 예측 모델"
   ]
  },
  {
   "cell_type": "code",
   "execution_count": 1,
   "metadata": {},
   "outputs": [],
   "source": [
    "import pandas as pd\n",
    "%matplotlib inline\n",
    "import matplotlib.pyplot as plt\n",
    "import numpy as np"
   ]
  },
  {
   "cell_type": "markdown",
   "metadata": {},
   "source": [
    "### 데이터 읽어오기"
   ]
  },
  {
   "cell_type": "code",
   "execution_count": 5,
   "metadata": {},
   "outputs": [
    {
     "data": {
      "text/html": [
       "<div>\n",
       "<style scoped>\n",
       "    .dataframe tbody tr th:only-of-type {\n",
       "        vertical-align: middle;\n",
       "    }\n",
       "\n",
       "    .dataframe tbody tr th {\n",
       "        vertical-align: top;\n",
       "    }\n",
       "\n",
       "    .dataframe thead th {\n",
       "        text-align: right;\n",
       "    }\n",
       "</style>\n",
       "<table border=\"1\" class=\"dataframe\">\n",
       "  <thead>\n",
       "    <tr style=\"text-align: right;\">\n",
       "      <th></th>\n",
       "      <th>talk</th>\n",
       "      <th>book</th>\n",
       "      <th>travel</th>\n",
       "      <th>school</th>\n",
       "      <th>tall</th>\n",
       "      <th>skin</th>\n",
       "      <th>muscle</th>\n",
       "      <th>like_level</th>\n",
       "    </tr>\n",
       "  </thead>\n",
       "  <tbody>\n",
       "    <tr>\n",
       "      <th>0</th>\n",
       "      <td>30</td>\n",
       "      <td>80</td>\n",
       "      <td>40</td>\n",
       "      <td>40</td>\n",
       "      <td>90</td>\n",
       "      <td>90</td>\n",
       "      <td>50</td>\n",
       "      <td>1타입</td>\n",
       "    </tr>\n",
       "    <tr>\n",
       "      <th>1</th>\n",
       "      <td>60</td>\n",
       "      <td>50</td>\n",
       "      <td>70</td>\n",
       "      <td>50</td>\n",
       "      <td>60</td>\n",
       "      <td>60</td>\n",
       "      <td>90</td>\n",
       "      <td>2타입</td>\n",
       "    </tr>\n",
       "    <tr>\n",
       "      <th>2</th>\n",
       "      <td>50</td>\n",
       "      <td>40</td>\n",
       "      <td>80</td>\n",
       "      <td>60</td>\n",
       "      <td>50</td>\n",
       "      <td>70</td>\n",
       "      <td>80</td>\n",
       "      <td>2타입</td>\n",
       "    </tr>\n",
       "    <tr>\n",
       "      <th>3</th>\n",
       "      <td>90</td>\n",
       "      <td>50</td>\n",
       "      <td>60</td>\n",
       "      <td>30</td>\n",
       "      <td>40</td>\n",
       "      <td>20</td>\n",
       "      <td>30</td>\n",
       "      <td>3타입</td>\n",
       "    </tr>\n",
       "    <tr>\n",
       "      <th>4</th>\n",
       "      <td>50</td>\n",
       "      <td>70</td>\n",
       "      <td>30</td>\n",
       "      <td>70</td>\n",
       "      <td>70</td>\n",
       "      <td>80</td>\n",
       "      <td>60</td>\n",
       "      <td>1타입</td>\n",
       "    </tr>\n",
       "  </tbody>\n",
       "</table>\n",
       "</div>"
      ],
      "text/plain": [
       "   talk  book  travel  school  tall  skin  muscle like_level\n",
       "0    30    80      40      40    90    90      50        1타입\n",
       "1    60    50      70      50    60    60      90        2타입\n",
       "2    50    40      80      60    50    70      80        2타입\n",
       "3    90    50      60      30    40    20      30        3타입\n",
       "4    50    70      30      70    70    80      60        1타입"
      ]
     },
     "execution_count": 5,
     "metadata": {},
     "output_type": "execute_result"
    }
   ],
   "source": [
    "like = pd.read_csv(r'C:\\Users\\User\\Desktop\\머신러닝 학습\\KNN 학습\\like.csv')\n",
    "like.columns = ['talk', 'book', 'travel', 'school', 'tall', 'skin', 'muscle', 'like_level']\n",
    "like.head()"
   ]
  },
  {
   "cell_type": "markdown",
   "metadata": {},
   "source": [
    "### 입력과 target데이터를 분리한다"
   ]
  },
  {
   "cell_type": "code",
   "execution_count": 9,
   "metadata": {},
   "outputs": [
    {
     "name": "stdout",
     "output_type": "stream",
     "text": [
      "(14, 7)\n",
      "(14,)\n"
     ]
    }
   ],
   "source": [
    "x = np.array(like.drop('like_level', axis=1))\n",
    "print(x.shape)\n",
    "y = np.array(like.like_level)\n",
    "print(y.shape)"
   ]
  },
  {
   "cell_type": "code",
   "execution_count": 10,
   "metadata": {},
   "outputs": [
    {
     "data": {
      "text/plain": [
       "((14,), (14, 7))"
      ]
     },
     "execution_count": 10,
     "metadata": {},
     "output_type": "execute_result"
    }
   ],
   "source": [
    "y.shape, x.shape"
   ]
  },
  {
   "cell_type": "code",
   "execution_count": 11,
   "metadata": {
    "scrolled": true
   },
   "outputs": [
    {
     "data": {
      "text/plain": [
       "array([[30, 80, 40, 40, 90, 90, 50],\n",
       "       [60, 50, 70, 50, 60, 60, 90],\n",
       "       [50, 40, 80, 60, 50, 70, 80],\n",
       "       [90, 50, 60, 30, 40, 20, 30],\n",
       "       [50, 70, 30, 70, 70, 80, 60],\n",
       "       [70, 30, 60, 40, 40, 40, 30],\n",
       "       [40, 90, 60, 60, 60, 80, 60],\n",
       "       [30, 60, 90, 60, 40, 70, 70],\n",
       "       [80, 40, 20, 80, 60, 40, 50],\n",
       "       [50, 70, 70, 50, 70, 90, 50],\n",
       "       [80, 50, 60, 40, 50, 40, 70],\n",
       "       [30, 70, 30, 90, 70, 80, 60],\n",
       "       [40, 60, 90, 60, 50, 70, 80],\n",
       "       [80, 30, 50, 50, 80, 40, 60]], dtype=int64)"
      ]
     },
     "execution_count": 11,
     "metadata": {},
     "output_type": "execute_result"
    }
   ],
   "source": [
    "x"
   ]
  },
  {
   "cell_type": "code",
   "execution_count": 12,
   "metadata": {
    "scrolled": true
   },
   "outputs": [
    {
     "data": {
      "text/plain": [
       "array(['1타입', '2타입', '2타입', '3타입', '1타입', '3타입', '1타입', '2타입', '3타입',\n",
       "       '1타입', '3타입', '1타입', '2타입', '3타입'], dtype=object)"
      ]
     },
     "execution_count": 12,
     "metadata": {},
     "output_type": "execute_result"
    }
   ],
   "source": [
    "y"
   ]
  },
  {
   "cell_type": "markdown",
   "metadata": {},
   "source": [
    "### - KNN은 데이터가 많지 않아도 모델을 만들 수 있다는 장점이 있다"
   ]
  },
  {
   "cell_type": "markdown",
   "metadata": {},
   "source": [
    "### 데이터를 정규화한다"
   ]
  },
  {
   "cell_type": "code",
   "execution_count": 13,
   "metadata": {},
   "outputs": [],
   "source": [
    "from sklearn.preprocessing import StandardScaler\n",
    "scaler = StandardScaler() # 정규화를 시켜준다\n",
    "scaler.fit(x)\n",
    "\n",
    "x = scaler.transform(x)"
   ]
  },
  {
   "cell_type": "code",
   "execution_count": 14,
   "metadata": {},
   "outputs": [
    {
     "data": {
      "text/plain": [
       "array([[-1.26962211,  1.34164079, -0.8461218 , -0.98782916,  2.06644812,\n",
       "         1.29927838, -0.59160798],\n",
       "       [ 0.21160368, -0.36590203,  0.57536283, -0.3592106 ,  0.04805693,\n",
       "        -0.09994449,  1.77482393],\n",
       "       [-0.28213825, -0.93508297,  1.04919104,  0.26940795, -0.62474013,\n",
       "         0.36646313,  1.18321596],\n",
       "       [ 1.69282948, -0.36590203,  0.10153462, -1.61644772, -1.29753719,\n",
       "        -1.96557498, -1.77482393],\n",
       "       [-0.28213825,  0.77245985, -1.31995001,  0.89802651,  0.720854  ,\n",
       "         0.83287076,  0.        ],\n",
       "       [ 0.70534562, -1.50426391,  0.10153462, -0.98782916, -1.29753719,\n",
       "        -1.03275974, -1.77482393],\n",
       "       [-0.77588018,  1.91082173,  0.10153462,  0.26940795,  0.04805693,\n",
       "         0.83287076,  0.        ],\n",
       "       [-1.26962211,  0.20327891,  1.52301925,  0.26940795, -1.29753719,\n",
       "         0.36646313,  0.59160798],\n",
       "       [ 1.19908755, -0.93508297, -1.79377823,  1.52664507,  0.04805693,\n",
       "        -1.03275974, -0.59160798],\n",
       "       [-0.28213825,  0.77245985,  0.57536283, -0.3592106 ,  0.720854  ,\n",
       "         1.29927838, -0.59160798],\n",
       "       [ 1.19908755, -0.36590203,  0.10153462, -0.98782916, -0.62474013,\n",
       "        -1.03275974,  0.59160798],\n",
       "       [-1.26962211,  0.77245985, -1.31995001,  2.15526362,  0.720854  ,\n",
       "         0.83287076,  0.        ],\n",
       "       [-0.77588018,  0.20327891,  1.52301925,  0.26940795, -0.62474013,\n",
       "         0.36646313,  1.18321596],\n",
       "       [ 1.19908755, -1.50426391, -0.37229359, -0.3592106 ,  1.39365106,\n",
       "        -1.03275974,  0.        ]])"
      ]
     },
     "execution_count": 14,
     "metadata": {},
     "output_type": "execute_result"
    }
   ],
   "source": [
    "# 데이터의 정기화\n",
    "# talk,book,travel,school,tall,skin,muscle같이 스케일이 달라도 \n",
    "# 동등한 입장에서 모델을 만들 수 있다\n",
    "x"
   ]
  },
  {
   "cell_type": "markdown",
   "metadata": {},
   "source": [
    "### KNN 분류기 모델을 만든다\n",
    "- 범주형 데이터를 예측하는 모델"
   ]
  },
  {
   "cell_type": "code",
   "execution_count": 15,
   "metadata": {},
   "outputs": [
    {
     "data": {
      "text/plain": [
       "KNeighborsClassifier()"
      ]
     },
     "execution_count": 15,
     "metadata": {},
     "output_type": "execute_result"
    }
   ],
   "source": [
    "from sklearn.neighbors import KNeighborsClassifier\n",
    "classifier = KNeighborsClassifier(n_neighbors=5)\n",
    "classifier.fit(x,y)"
   ]
  },
  {
   "cell_type": "code",
   "execution_count": 16,
   "metadata": {},
   "outputs": [
    {
     "data": {
      "text/plain": [
       "array(['1타입', '2타입', '2타입', '3타입', '1타입', '3타입', '1타입', '2타입', '3타입',\n",
       "       '1타입', '3타입', '1타입', '2타입', '3타입'], dtype=object)"
      ]
     },
     "execution_count": 16,
     "metadata": {},
     "output_type": "execute_result"
    }
   ],
   "source": [
    "y_pred = classifier.predict(x)\n",
    "y_pred"
   ]
  },
  {
   "cell_type": "code",
   "execution_count": 17,
   "metadata": {},
   "outputs": [
    {
     "data": {
      "text/plain": [
       "array(['1타입', '2타입', '2타입', '3타입', '1타입', '3타입', '1타입', '2타입', '3타입',\n",
       "       '1타입', '3타입', '1타입', '2타입', '3타입'], dtype=object)"
      ]
     },
     "execution_count": 17,
     "metadata": {},
     "output_type": "execute_result"
    }
   ],
   "source": [
    "y"
   ]
  },
  {
   "cell_type": "markdown",
   "metadata": {},
   "source": [
    "### 모델을 평가한다"
   ]
  },
  {
   "cell_type": "code",
   "execution_count": 18,
   "metadata": {},
   "outputs": [
    {
     "name": "stdout",
     "output_type": "stream",
     "text": [
      "[[5 0 0]\n",
      " [0 4 0]\n",
      " [0 0 5]]\n",
      "              precision    recall  f1-score   support\n",
      "\n",
      "         1타입       1.00      1.00      1.00         5\n",
      "         2타입       1.00      1.00      1.00         4\n",
      "         3타입       1.00      1.00      1.00         5\n",
      "\n",
      "    accuracy                           1.00        14\n",
      "   macro avg       1.00      1.00      1.00        14\n",
      "weighted avg       1.00      1.00      1.00        14\n",
      "\n"
     ]
    }
   ],
   "source": [
    "from sklearn.metrics import classification_report, confusion_matrix\n",
    "print(confusion_matrix(y,y_pred)) #평가는 혼돈행령 사용 :\n",
    "                                  #결과값이 대각선 방향에 숫자가 모여 있어야 한다\n",
    "print(classification_report(y,y_pred))"
   ]
  },
  {
   "cell_type": "code",
   "execution_count": null,
   "metadata": {},
   "outputs": [],
   "source": []
  }
 ],
 "metadata": {
  "kernelspec": {
   "display_name": "Python 3",
   "language": "python",
   "name": "python3"
  },
  "language_info": {
   "codemirror_mode": {
    "name": "ipython",
    "version": 3
   },
   "file_extension": ".py",
   "mimetype": "text/x-python",
   "name": "python",
   "nbconvert_exporter": "python",
   "pygments_lexer": "ipython3",
   "version": "3.8.3"
  }
 },
 "nbformat": 4,
 "nbformat_minor": 4
}
