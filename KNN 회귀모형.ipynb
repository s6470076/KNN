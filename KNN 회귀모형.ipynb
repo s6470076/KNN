{
 "cells": [
  {
   "cell_type": "code",
   "execution_count": 1,
   "metadata": {},
   "outputs": [],
   "source": [
    "import pandas as pd\n",
    "%matplotlib inline\n",
    "import matplotlib.pyplot as plt\n",
    "import numpy as np"
   ]
  },
  {
   "cell_type": "code",
   "execution_count": 2,
   "metadata": {
    "scrolled": true
   },
   "outputs": [
    {
     "data": {
      "text/html": [
       "<div>\n",
       "<style scoped>\n",
       "    .dataframe tbody tr th:only-of-type {\n",
       "        vertical-align: middle;\n",
       "    }\n",
       "\n",
       "    .dataframe tbody tr th {\n",
       "        vertical-align: top;\n",
       "    }\n",
       "\n",
       "    .dataframe thead th {\n",
       "        text-align: right;\n",
       "    }\n",
       "</style>\n",
       "<table border=\"1\" class=\"dataframe\">\n",
       "  <thead>\n",
       "    <tr style=\"text-align: right;\">\n",
       "      <th></th>\n",
       "      <th>age</th>\n",
       "      <th>pay</th>\n",
       "      <th>buy_flag</th>\n",
       "    </tr>\n",
       "  </thead>\n",
       "  <tbody>\n",
       "    <tr>\n",
       "      <th>0</th>\n",
       "      <td>26</td>\n",
       "      <td>160</td>\n",
       "      <td>구매</td>\n",
       "    </tr>\n",
       "    <tr>\n",
       "      <th>1</th>\n",
       "      <td>35</td>\n",
       "      <td>210</td>\n",
       "      <td>비구매</td>\n",
       "    </tr>\n",
       "    <tr>\n",
       "      <th>2</th>\n",
       "      <td>26</td>\n",
       "      <td>220</td>\n",
       "      <td>비구매</td>\n",
       "    </tr>\n",
       "    <tr>\n",
       "      <th>3</th>\n",
       "      <td>29</td>\n",
       "      <td>260</td>\n",
       "      <td>구매</td>\n",
       "    </tr>\n",
       "    <tr>\n",
       "      <th>4</th>\n",
       "      <td>22</td>\n",
       "      <td>110</td>\n",
       "      <td>비구매</td>\n",
       "    </tr>\n",
       "  </tbody>\n",
       "</table>\n",
       "</div>"
      ],
      "text/plain": [
       "   age  pay buy_flag\n",
       "0   26  160       구매\n",
       "1   35  210      비구매\n",
       "2   26  220     비구매 \n",
       "3   29  260       구매\n",
       "4   22  110      비구매"
      ]
     },
     "execution_count": 2,
     "metadata": {},
     "output_type": "execute_result"
    }
   ],
   "source": [
    "buy = pd.read_csv(r'C:\\Users\\User\\Desktop\\머신러닝 학습\\KNN 학습\\buy.csv')\n",
    "buy.columns = ['age','pay','buy_flag']\n",
    "buy.head()"
   ]
  },
  {
   "cell_type": "markdown",
   "metadata": {},
   "source": [
    "### age,pay를 이용해서 buy_flag 예측하기"
   ]
  },
  {
   "cell_type": "code",
   "execution_count": 7,
   "metadata": {},
   "outputs": [
    {
     "name": "stdout",
     "output_type": "stream",
     "text": [
      "[0 0 0 0 0 0 0 0 0 0 0 0 0 0 0 0 0 0 0 0]\n",
      "[1 0 0 1 0 0 1 0 0 1 1 0 0 1 1 0 0 0 1 0]\n"
     ]
    }
   ],
   "source": [
    "buy_int = np.array([0]*len(buy))\n",
    "print(buy_int)\n",
    "buy_int[buy.buy_flag == '구매'] = 1\n",
    "buy_int[buy.buy_flag == '비구매'] = 0\n",
    "print(buy_int)"
   ]
  },
  {
   "cell_type": "code",
   "execution_count": 8,
   "metadata": {},
   "outputs": [],
   "source": [
    "buy.buy_flag = buy_int\n",
    "test_buy = buy"
   ]
  },
  {
   "cell_type": "code",
   "execution_count": 14,
   "metadata": {},
   "outputs": [
    {
     "data": {
      "text/plain": [
       "array([[-0.67743894, -0.81302375,  1.22474487],\n",
       "       [ 1.0161584 , -0.25994637, -0.81649658],\n",
       "       [-0.67743894, -0.14933089, -0.81649658],\n",
       "       [-0.11290649,  0.29313101,  1.22474487],\n",
       "       [-1.43014887, -1.36610113, -0.81649658],\n",
       "       [ 0.45162596, -0.25994637, -0.81649658],\n",
       "       [ 1.39251337,  0.84620839,  1.22474487],\n",
       "       [-1.61832635, -1.36610113, -0.81649658],\n",
       "       [-0.30108397, -0.25994637, -0.81649658],\n",
       "       [ 0.26344848,  0.29313101,  1.22474487],\n",
       "       [ 1.20433589,  1.7311322 ,  1.22474487],\n",
       "       [-1.24197138, -1.36610113, -0.81649658],\n",
       "       [ 0.45162596,  1.17805482, -0.81649658],\n",
       "       [-0.11290649, -0.70240827,  1.22474487],\n",
       "       [ 1.39251337,  1.17805482,  1.22474487],\n",
       "       [ 0.26344848,  0.07190006, -0.81649658],\n",
       "       [-0.48926145, -0.03871542, -0.81649658],\n",
       "       [-1.24197138, -0.25994637, -0.81649658],\n",
       "       [ 1.95704582,  2.28420958,  1.22474487],\n",
       "       [-0.48926145, -1.0342547 , -0.81649658]])"
      ]
     },
     "execution_count": 14,
     "metadata": {},
     "output_type": "execute_result"
    }
   ],
   "source": [
    "# age와 pay의 값의 범위를 동등하게 만들어준다 -> 정기화시켜준다\n",
    "from sklearn.preprocessing import StandardScaler\n",
    "scaler = StandardScaler()\n",
    "scaler.fit(buy)\n",
    "\n",
    "buy = scaler.transform(buy) #새로운 buy값을 만듦\n",
    "buy"
   ]
  },
  {
   "cell_type": "code",
   "execution_count": 20,
   "metadata": {},
   "outputs": [
    {
     "data": {
      "text/html": [
       "<div>\n",
       "<style scoped>\n",
       "    .dataframe tbody tr th:only-of-type {\n",
       "        vertical-align: middle;\n",
       "    }\n",
       "\n",
       "    .dataframe tbody tr th {\n",
       "        vertical-align: top;\n",
       "    }\n",
       "\n",
       "    .dataframe thead th {\n",
       "        text-align: right;\n",
       "    }\n",
       "</style>\n",
       "<table border=\"1\" class=\"dataframe\">\n",
       "  <thead>\n",
       "    <tr style=\"text-align: right;\">\n",
       "      <th></th>\n",
       "      <th>age</th>\n",
       "      <th>pay</th>\n",
       "      <th>buy_flag</th>\n",
       "    </tr>\n",
       "  </thead>\n",
       "  <tbody>\n",
       "    <tr>\n",
       "      <th>0</th>\n",
       "      <td>-0.677439</td>\n",
       "      <td>-0.813024</td>\n",
       "      <td>1.224745</td>\n",
       "    </tr>\n",
       "    <tr>\n",
       "      <th>1</th>\n",
       "      <td>1.016158</td>\n",
       "      <td>-0.259946</td>\n",
       "      <td>-0.816497</td>\n",
       "    </tr>\n",
       "    <tr>\n",
       "      <th>2</th>\n",
       "      <td>-0.677439</td>\n",
       "      <td>-0.149331</td>\n",
       "      <td>-0.816497</td>\n",
       "    </tr>\n",
       "    <tr>\n",
       "      <th>3</th>\n",
       "      <td>-0.112906</td>\n",
       "      <td>0.293131</td>\n",
       "      <td>1.224745</td>\n",
       "    </tr>\n",
       "    <tr>\n",
       "      <th>4</th>\n",
       "      <td>-1.430149</td>\n",
       "      <td>-1.366101</td>\n",
       "      <td>-0.816497</td>\n",
       "    </tr>\n",
       "  </tbody>\n",
       "</table>\n",
       "</div>"
      ],
      "text/plain": [
       "        age       pay  buy_flag\n",
       "0 -0.677439 -0.813024  1.224745\n",
       "1  1.016158 -0.259946 -0.816497\n",
       "2 -0.677439 -0.149331 -0.816497\n",
       "3 -0.112906  0.293131  1.224745\n",
       "4 -1.430149 -1.366101 -0.816497"
      ]
     },
     "execution_count": 20,
     "metadata": {},
     "output_type": "execute_result"
    }
   ],
   "source": [
    "buy = pd.DataFrame(buy)\n",
    "buy.head()"
   ]
  },
  {
   "cell_type": "code",
   "execution_count": 17,
   "metadata": {},
   "outputs": [
    {
     "data": {
      "text/html": [
       "<div>\n",
       "<style scoped>\n",
       "    .dataframe tbody tr th:only-of-type {\n",
       "        vertical-align: middle;\n",
       "    }\n",
       "\n",
       "    .dataframe tbody tr th {\n",
       "        vertical-align: top;\n",
       "    }\n",
       "\n",
       "    .dataframe thead th {\n",
       "        text-align: right;\n",
       "    }\n",
       "</style>\n",
       "<table border=\"1\" class=\"dataframe\">\n",
       "  <thead>\n",
       "    <tr style=\"text-align: right;\">\n",
       "      <th></th>\n",
       "      <th>age</th>\n",
       "      <th>pay</th>\n",
       "      <th>buy_flag</th>\n",
       "    </tr>\n",
       "  </thead>\n",
       "  <tbody>\n",
       "    <tr>\n",
       "      <th>0</th>\n",
       "      <td>26</td>\n",
       "      <td>160</td>\n",
       "      <td>1</td>\n",
       "    </tr>\n",
       "    <tr>\n",
       "      <th>1</th>\n",
       "      <td>35</td>\n",
       "      <td>210</td>\n",
       "      <td>0</td>\n",
       "    </tr>\n",
       "    <tr>\n",
       "      <th>2</th>\n",
       "      <td>26</td>\n",
       "      <td>220</td>\n",
       "      <td>0</td>\n",
       "    </tr>\n",
       "    <tr>\n",
       "      <th>3</th>\n",
       "      <td>29</td>\n",
       "      <td>260</td>\n",
       "      <td>1</td>\n",
       "    </tr>\n",
       "    <tr>\n",
       "      <th>4</th>\n",
       "      <td>22</td>\n",
       "      <td>110</td>\n",
       "      <td>0</td>\n",
       "    </tr>\n",
       "  </tbody>\n",
       "</table>\n",
       "</div>"
      ],
      "text/plain": [
       "   age  pay  buy_flag\n",
       "0   26  160         1\n",
       "1   35  210         0\n",
       "2   26  220         0\n",
       "3   29  260         1\n",
       "4   22  110         0"
      ]
     },
     "execution_count": 17,
     "metadata": {},
     "output_type": "execute_result"
    }
   ],
   "source": [
    "buy.columns = ['age', 'pay', 'buy_flag']\n",
    "test_buy.head()"
   ]
  },
  {
   "cell_type": "code",
   "execution_count": 21,
   "metadata": {},
   "outputs": [],
   "source": [
    "x = buy.iloc[:,[1,2]].values\n",
    "y = buy.iloc[:,0].values\n",
    "\n",
    "x_test = test_buy.iloc[:,[1,2]].values\n",
    "y_test = test_buy.iloc[:,0].values"
   ]
  },
  {
   "cell_type": "code",
   "execution_count": 22,
   "metadata": {},
   "outputs": [
    {
     "data": {
      "text/plain": [
       "(array([[160,   1],\n",
       "        [210,   0],\n",
       "        [220,   0],\n",
       "        [260,   1],\n",
       "        [110,   0],\n",
       "        [210,   0],\n",
       "        [310,   1],\n",
       "        [110,   0],\n",
       "        [210,   0],\n",
       "        [260,   1],\n",
       "        [390,   1],\n",
       "        [110,   0],\n",
       "        [340,   0],\n",
       "        [170,   1],\n",
       "        [340,   1],\n",
       "        [240,   0],\n",
       "        [230,   0],\n",
       "        [210,   0],\n",
       "        [440,   1],\n",
       "        [140,   0]], dtype=int64),\n",
       " array([26, 35, 26, 29, 22, 32, 37, 21, 28, 31, 36, 23, 32, 29, 37, 31, 27,\n",
       "        23, 40, 27], dtype=int64))"
      ]
     },
     "execution_count": 22,
     "metadata": {},
     "output_type": "execute_result"
    }
   ],
   "source": [
    "x_test, y_test"
   ]
  },
  {
   "cell_type": "code",
   "execution_count": 23,
   "metadata": {},
   "outputs": [
    {
     "data": {
      "text/plain": [
       "(array([[-0.81302375,  1.22474487],\n",
       "        [-0.25994637, -0.81649658],\n",
       "        [-0.14933089, -0.81649658],\n",
       "        [ 0.29313101,  1.22474487],\n",
       "        [-1.36610113, -0.81649658],\n",
       "        [-0.25994637, -0.81649658],\n",
       "        [ 0.84620839,  1.22474487],\n",
       "        [-1.36610113, -0.81649658],\n",
       "        [-0.25994637, -0.81649658],\n",
       "        [ 0.29313101,  1.22474487],\n",
       "        [ 1.7311322 ,  1.22474487],\n",
       "        [-1.36610113, -0.81649658],\n",
       "        [ 1.17805482, -0.81649658],\n",
       "        [-0.70240827,  1.22474487],\n",
       "        [ 1.17805482,  1.22474487],\n",
       "        [ 0.07190006, -0.81649658],\n",
       "        [-0.03871542, -0.81649658],\n",
       "        [-0.25994637, -0.81649658],\n",
       "        [ 2.28420958,  1.22474487],\n",
       "        [-1.0342547 , -0.81649658]]),\n",
       " array([-0.67743894,  1.0161584 , -0.67743894, -0.11290649, -1.43014887,\n",
       "         0.45162596,  1.39251337, -1.61832635, -0.30108397,  0.26344848,\n",
       "         1.20433589, -1.24197138,  0.45162596, -0.11290649,  1.39251337,\n",
       "         0.26344848, -0.48926145, -1.24197138,  1.95704582, -0.48926145]))"
      ]
     },
     "execution_count": 23,
     "metadata": {},
     "output_type": "execute_result"
    }
   ],
   "source": [
    "x,y"
   ]
  },
  {
   "cell_type": "code",
   "execution_count": 24,
   "metadata": {},
   "outputs": [
    {
     "name": "stdout",
     "output_type": "stream",
     "text": [
      "결정계수 : 0.6857648725212465\n",
      "[27.8 28.8 29.6 28.8 23.8 28.8 33.2 23.8 28.8 28.8 36.4 23.8 34.2 29.8\n",
      " 34.2 28.8 29.4 28.8 36.4 23.8]\n",
      "[26 35 26 29 22 32 37 21 28 31 36 23 32 29 37 31 27 23 40 27]\n"
     ]
    }
   ],
   "source": [
    "from sklearn import neighbors\n",
    "\n",
    "model = neighbors.KNeighborsRegressor() #회귀분석 모델이 포함된 수치를 예측할 수 있음\n",
    "model.fit(x_test,y_test)\n",
    "\n",
    "### 결정계수 표시 : 모델의 설명력을 나타낸 값\n",
    "r2 = model.score(x_test, y_test) # result와 y_test의 차이로 r2가 도출 됨\n",
    "print('결정계수 :',r2)\n",
    "\n",
    "### 예측하기\n",
    "result = model.predict(x_test)\n",
    "print(result)\n",
    "\n",
    "### 우리가 예측해야 될 값(정답)\n",
    "print(y_test)"
   ]
  },
  {
   "cell_type": "markdown",
   "metadata": {},
   "source": [
    "### 시각화"
   ]
  },
  {
   "cell_type": "code",
   "execution_count": 26,
   "metadata": {},
   "outputs": [
    {
     "data": {
      "image/png": "[encoded data removed]",
      "text/plain": [
       "<Figure size 432x288 with 1 Axes>"
      ]
     },
     "metadata": {
      "needs_background": "light"
     },
     "output_type": "display_data"
    }
   ],
   "source": [
    "plt.scatter(test_buy.pay, y_test, marker='o', c='blue')\n",
    "plt.scatter(test_buy.pay, result, marker='x', c='red')\n",
    "plt.show()"
   ]
  },
  {
   "cell_type": "markdown",
   "metadata": {},
   "source": [
    "- 모델은 68% 정도의 설명력을 가지고 있다."
   ]
  },
  {
   "cell_type": "code",
   "execution_count": null,
   "metadata": {},
   "outputs": [],
   "source": []
  }
 ],
 "metadata": {
  "kernelspec": {
   "display_name": "Python 3",
   "language": "python",
   "name": "python3"
  },
  "language_info": {
   "codemirror_mode": {
    "name": "ipython",
    "version": 3
   },
   "file_extension": ".py",
   "mimetype": "text/x-python",
   "name": "python",
   "nbconvert_exporter": "python",
   "pygments_lexer": "ipython3",
   "version": "3.8.3"
  }
 },
 "nbformat": 4,
 "nbformat_minor": 4
}
